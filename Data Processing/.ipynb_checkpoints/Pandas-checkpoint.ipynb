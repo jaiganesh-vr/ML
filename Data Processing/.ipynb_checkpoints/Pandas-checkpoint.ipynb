{
 "cells": [
  {
   "cell_type": "code",
   "execution_count": 99,
   "metadata": {},
   "outputs": [],
   "source": [
    "import pandas as pd\n",
    "import numpy as np"
   ]
  },
  {
   "cell_type": "code",
   "execution_count": null,
   "metadata": {},
   "outputs": [],
   "source": [
    "dates = pd.date_range(\"20130101\", periods=4)\n",
    "\n",
    "b = pd.DataFrame({\n",
    "    \"A\": [\"1.0\",\"2.2\",\"0.4\",\"1.4\"] ,\n",
    "    \"B\": pd.Timestamp(\"20231012\"),\n",
    "    \"C\": pd.Series(1, index = list(range(4)), dtype = \"float32\"),\n",
    "    \"D\": pd.Categorical([\"test\",\"train\",\"test\",\"train\"])\n",
    "}, index = dates)\n",
    "print(b)"
   ]
  },
  {
   "cell_type": "code",
   "execution_count": null,
   "metadata": {},
   "outputs": [],
   "source": [
    "#View the top and the bottom of the data frame\n",
    "print(b.head())\n",
    "print(b.tail())"
   ]
  },
  {
   "cell_type": "code",
   "execution_count": null,
   "metadata": {},
   "outputs": [],
   "source": [
    "#View the Index and Column of the data frame\n",
    "print(b.index)\n",
    "print(b.columns)"
   ]
  },
  {
   "cell_type": "code",
   "execution_count": null,
   "metadata": {},
   "outputs": [],
   "source": [
    "#DataFrame to Numpy\n",
    "c = b.to_numpy()\n",
    "print(c)\n"
   ]
  },
  {
   "cell_type": "code",
   "execution_count": null,
   "metadata": {},
   "outputs": [],
   "source": [
    "pd[0:3] #Slices rows 0,1,2\n",
    "pd[index1:index2] #Slices rows from index1 to index2\n",
    "pd.loc[index[0]] #Slices the index[0]th row\n",
    "pf.loc[:,[\"COL1\",\"COL2\"]]\n",
    "\n",
    "pd.iloc[:,:]\n",
    "pd.iloc[[1,2],[3,4]]"
   ]
  },
  {
   "cell_type": "code",
   "execution_count": 94,
   "metadata": {
    "scrolled": false
   },
   "outputs": [
    {
     "name": "stdout",
     "output_type": "stream",
     "text": [
      "A            object\n",
      "B    datetime64[ns]\n",
      "C           float32\n",
      "D          category\n",
      "dtype: object\n",
      "         C\n",
      "count  0.0\n",
      "mean   NaN\n",
      "std    NaN\n",
      "min    NaN\n",
      "25%    NaN\n",
      "50%    NaN\n",
      "75%    NaN\n",
      "max    NaN\n",
      "              A          B   C      D\n",
      "2013-01-01  1.0 2023-10-12 NaN   test\n",
      "2013-01-02  2.2 2023-10-12 NaN  train\n",
      "2013-01-03  0.4 2023-10-12 NaN   test\n",
      "2013-01-04  1.4 2023-10-12 NaN  train\n",
      "              A          B   C      D\n",
      "2013-01-03  0.4 2023-10-12 NaN   test\n",
      "2013-01-01  1.0 2023-10-12 NaN   test\n",
      "2013-01-04  1.4 2023-10-12 NaN  train\n",
      "2013-01-02  2.2 2023-10-12 NaN  train\n"
     ]
    }
   ],
   "source": [
    "print(b.dtypes)\n",
    "print(b.describe())\n",
    "print(b.sort_index())\n",
    "print(b.sort_values(by=\"A\"))\n"
   ]
  },
  {
   "cell_type": "code",
   "execution_count": 138,
   "metadata": {},
   "outputs": [
    {
     "data": {
      "text/html": [
       "<div>\n",
       "<style scoped>\n",
       "    .dataframe tbody tr th:only-of-type {\n",
       "        vertical-align: middle;\n",
       "    }\n",
       "\n",
       "    .dataframe tbody tr th {\n",
       "        vertical-align: top;\n",
       "    }\n",
       "\n",
       "    .dataframe thead th {\n",
       "        text-align: right;\n",
       "    }\n",
       "</style>\n",
       "<table border=\"1\" class=\"dataframe\">\n",
       "  <thead>\n",
       "    <tr style=\"text-align: right;\">\n",
       "      <th></th>\n",
       "      <th>A</th>\n",
       "      <th>B</th>\n",
       "      <th>C</th>\n",
       "      <th>D</th>\n",
       "      <th>E</th>\n",
       "    </tr>\n",
       "  </thead>\n",
       "  <tbody>\n",
       "    <tr>\n",
       "      <th>2013-01-03</th>\n",
       "      <td>0.113806</td>\n",
       "      <td>-0.170697</td>\n",
       "      <td>-0.629457</td>\n",
       "      <td>-0.506994</td>\n",
       "      <td>Two</td>\n",
       "    </tr>\n",
       "    <tr>\n",
       "      <th>2013-01-04</th>\n",
       "      <td>-0.115180</td>\n",
       "      <td>-0.395145</td>\n",
       "      <td>0.081067</td>\n",
       "      <td>-0.186861</td>\n",
       "      <td>Three</td>\n",
       "    </tr>\n",
       "  </tbody>\n",
       "</table>\n",
       "</div>"
      ],
      "text/plain": [
       "                   A         B         C         D      E\n",
       "2013-01-03  0.113806 -0.170697 -0.629457 -0.506994    Two\n",
       "2013-01-04 -0.115180 -0.395145  0.081067 -0.186861  Three"
      ]
     },
     "execution_count": 138,
     "metadata": {},
     "output_type": "execute_result"
    }
   ],
   "source": [
    "df = pd.DataFrame(np.random.randn(4, 4), index=dates, columns=list(\"ABCD\"))\n",
    "df2 = df.copy()\n",
    "df2[\"E\"] = ['One','One','Two','Three']\n",
    "df2[df2[\"E\"].isin([\"Two\",\"Three\"])]"
   ]
  },
  {
   "cell_type": "code",
   "execution_count": 131,
   "metadata": {},
   "outputs": [
    {
     "name": "stdout",
     "output_type": "stream",
     "text": [
      "                   A         B         C         D      E\n",
      "2013-01-01  0.000000  0.000000 -0.768962  0.784294    One\n",
      "2013-01-02  0.047697  1.126047  1.138472 -1.876270    One\n",
      "2013-01-03  1.702794 -0.042756  0.000000 -0.466007    Two\n",
      "2013-01-04 -0.660658 -0.384995  0.558845 -1.674178  Three\n"
     ]
    }
   ],
   "source": [
    "print(df2)"
   ]
  },
  {
   "cell_type": "code",
   "execution_count": 120,
   "metadata": {},
   "outputs": [],
   "source": [
    "df2.at[dates[0], \"A\"] = 0"
   ]
  },
  {
   "cell_type": "code",
   "execution_count": 133,
   "metadata": {},
   "outputs": [
    {
     "name": "stdout",
     "output_type": "stream",
     "text": [
      "                   A         B         C         D      E\n",
      "2013-01-01  0.000000  0.000000 -0.768962  0.784294    One\n",
      "2013-01-02  0.047697  1.126047  1.138472 -1.876270    One\n",
      "2013-01-03  1.702794 -0.042756  0.000000 -0.466007    Two\n",
      "2013-01-04 -0.660658 -0.384995  0.558845 -1.674178  Three\n"
     ]
    }
   ],
   "source": [
    "df2.iat[0,1] = 0\n",
    "print(df2)"
   ]
  },
  {
   "cell_type": "code",
   "execution_count": 136,
   "metadata": {},
   "outputs": [
    {
     "name": "stdout",
     "output_type": "stream",
     "text": [
      "                   A         B         C         D\n",
      "2013-01-01 -0.568036 -0.992038 -0.768962 -0.784294\n",
      "2013-01-02 -0.047697 -1.126047 -1.138472 -1.876270\n",
      "2013-01-03 -1.702794 -0.042756 -0.126760 -0.466007\n",
      "2013-01-04 -0.660658 -0.384995 -0.558845 -1.674178\n"
     ]
    }
   ],
   "source": [
    "df[df > 0] = -df"
   ]
  }
 ],
 "metadata": {
  "kernelspec": {
   "display_name": "Python 3",
   "language": "python",
   "name": "python3"
  },
  "language_info": {
   "codemirror_mode": {
    "name": "ipython",
    "version": 3
   },
   "file_extension": ".py",
   "mimetype": "text/x-python",
   "name": "python",
   "nbconvert_exporter": "python",
   "pygments_lexer": "ipython3",
   "version": "3.8.5"
  }
 },
 "nbformat": 4,
 "nbformat_minor": 4
}
