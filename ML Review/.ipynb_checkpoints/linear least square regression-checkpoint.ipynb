{
 "cells": [
  {
   "cell_type": "code",
   "execution_count": 26,
   "metadata": {},
   "outputs": [],
   "source": [
    "def linear_model_predict(X, w):\n",
    "    return X @ w "
   ]
  },
  {
   "cell_type": "code",
   "execution_count": 27,
   "metadata": {},
   "outputs": [],
   "source": [
    "import numpy as np\n",
    "import matplotlib.pyplot as plt\n",
    "\n",
    "w = np.array([2, 0.5])                            \n",
    "X = np.array([[1., -3.], [1.,  3.], [1.,  5.]])   \n",
    "y = linear_model_predict(X, w)                    \n",
    "\n",
    "\n",
    "w = np.array([1, 0.5, 0.25])   \n",
    "X = np.array([[1., -3., 1.], [1.,  3., 0.], [1.,  5., -2.]])   # Evaluate at different (x1, x2) points\n",
    "y = linear_model_predict(X, w)                    \n"
   ]
  },
  {
   "cell_type": "code",
   "execution_count": 32,
   "metadata": {},
   "outputs": [
    {
     "data": {
      "image/png": "[encoded data removed]",
      "text/plain": [
       "<Figure size 432x288 with 1 Axes>"
      ]
     },
     "metadata": {
      "needs_background": "light"
     },
     "output_type": "display_data"
    }
   ],
   "source": [
    "w = np.array([2, 0.5])           \n",
    "x0 = np.ones(20)\n",
    "x1 = np.linspace(-5, 5, 20)  \n",
    "X = np.column_stack([x0, x1])  \n",
    "y = linear_model_predict(X, w)   \n",
    "plt.scatter(x1, y, 10, 'r')\n",
    "plt.xlabel(\"$x_1$\")\n",
    "plt.ylabel(\"$y$\")\n",
    "plt.title(\"Sample predictions for linear model $y=2 + \\\\frac{1}{2}x_1$\");"
   ]
  },
  {
   "cell_type": "code",
   "execution_count": 40,
   "metadata": {},
   "outputs": [
    {
     "data": {
      "text/plain": [
       "<matplotlib.collections.PathCollection at 0x7f8d44a491c0>"
      ]
     },
     "execution_count": 40,
     "metadata": {},
     "output_type": "execute_result"
    },
    {
     "data": {
      "image/png": "[encoded data removed]",
      "text/plain": [
       "<Figure size 432x288 with 1 Axes>"
      ]
     },
     "metadata": {
      "needs_background": "light"
     },
     "output_type": "display_data"
    }
   ],
   "source": [
    "def linear_regression_by_gradient_descent(X, y, w_init, learn_rate=0.05, num_steps=500):\n",
    "    w = w_init\n",
    "    for i in range(num_steps):\n",
    "        grad = (X.T @ X) @ w - X.T @ y\n",
    "        w = w - learn_rate*grad\n",
    "    return w\n",
    "\n",
    "X0 = np.array([[1, 0.0], [1, 1.0], [1, 2.0]])\n",
    "y1 = np.array([4.0, 3.0, 2.0])\n",
    "w = linear_regression_by_gradient_descent(X0, y1, np.array([0.0, 0.0]))\n",
    "\n",
    "x0 = np.ones(20)\n",
    "x1 = np.linspace(-5, 5, 20)  \n",
    "X = np.column_stack([x0, x1])  \n",
    "y = linear_model_predict(X, w)   \n",
    "plt.scatter(x1, y, 10, 'r')\n",
    "plt.scatter(X0[:,1], y1, 10, edgecolors='b', label='test predictions')\n"
   ]
  },
  {
   "cell_type": "code",
   "execution_count": 50,
   "metadata": {},
   "outputs": [
    {
     "data": {
      "text/plain": [
       "True"
      ]
     },
     "execution_count": 50,
     "metadata": {},
     "output_type": "execute_result"
    }
   ],
   "source": [
    "import sklearn\n",
    "import sklearn.linear_model\n",
    "\n",
    "X = np.array([[1, -2.2],\n",
    "              [1, -0.3],\n",
    "              [1,  1.5],\n",
    "              [1,  4.8]])\n",
    "y = np.array([-1.2, 1.5, 4.2, 5.3])\n",
    "\n",
    "linear_model = sklearn.linear_model.LinearRegression(fit_intercept=False)\n",
    "linear_model.fit(X, y)\n",
    "\n",
    "linear_model.intercept_ == 0.0\n",
    "np.allclose(linear_model.coef_, [[1.57104472, 0.92521608]])"
   ]
  }
 ],
 "metadata": {
  "kernelspec": {
   "display_name": "Python 3",
   "language": "python",
   "name": "python3"
  },
  "language_info": {
   "codemirror_mode": {
    "name": "ipython",
    "version": 3
   },
   "file_extension": ".py",
   "mimetype": "text/x-python",
   "name": "python",
   "nbconvert_exporter": "python",
   "pygments_lexer": "ipython3",
   "version": "3.8.5"
  }
 },
 "nbformat": 4,
 "nbformat_minor": 4
}
