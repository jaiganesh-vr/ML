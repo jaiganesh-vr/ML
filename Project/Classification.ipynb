{
 "cells": [
  {
   "cell_type": "code",
   "execution_count": 41,
   "metadata": {},
   "outputs": [],
   "source": [
    "import pandas as pd\n",
    "from sklearn.neighbors import KNeighborsClassifier\n",
    "from sklearn.linear_model import LinearRegression\n",
    "from sklearn.model_selection import train_test_split\n",
    "\n",
    "\n",
    "\n",
    "import numpy as np\n",
    "import matplotlib.pyplot as plt\n",
    "\n",
    "\n",
    "\n",
    "df = pd.read_excel(\"Data/Dataset1.xls\")\n",
    " \n",
    "data = df.iloc[1:,:24].to_numpy()\n",
    "target = df.iloc[1:,24].to_numpy()"
   ]
  },
  {
   "cell_type": "code",
   "execution_count": null,
   "metadata": {
    "scrolled": true
   },
   "outputs": [],
   "source": [
    "X_train, X_test, y_train, y_test = train_test_split(data, target, random_state=0)\n",
    "\n",
    "knn = KNeighborsClassifier(n_neighbors=1)\n",
    "knn.fit(X_train, y_train)\n",
    "\n",
    "lr = LinearRegression().fit(X_train, y_train)\n",
    "\n",
    "print(\"Training set score: {:.2f}\".format(lr.score(X_train, y_train)))\n",
    "print(\"Test set score: {:.2f}\".format(lr.score(X_test, y_test)))"
   ]
  },
  {
   "cell_type": "code",
   "execution_count": 42,
   "metadata": {},
   "outputs": [
    {
     "name": "stdout",
     "output_type": "stream",
     "text": [
      "[0]\n",
      "lr.coef_: [ 0.00047511  0.00137043  0.0184884  -0.00238924 -0.01006395]\n",
      "lr.intercept_: 0.25161039635323124\n"
     ]
    }
   ],
   "source": [
    "dataset = pd.DataFrame({\n",
    "    \"English\" : [98,84,50,62,90],\n",
    "    \"Maths\" : [92,86,30,66,88],\n",
    "    \"Science\" : [90,80,25,77,99],\n",
    "    \"Social\" : [89,77,10,59,100],\n",
    "    \"Tamil\" : [87,70,75,65,100],\n",
    "    \"Result\" : [1,1,0,1,1]\n",
    "    \n",
    "})\n",
    "\n",
    "data = dataset.iloc[:,:5].to_numpy()\n",
    "target = dataset.iloc[:,5].to_numpy()\n",
    "\n",
    "knn = KNeighborsClassifier(n_neighbors=1)\n",
    "knn.fit(data,target)\n",
    "\n",
    "X_new = [[30,20,10,87,77]]\n",
    "prediction = knn.predict(X_new)\n",
    "print(prediction)\n",
    "lr = LinearRegression().fit(data,target)\n",
    "print(\"lr.coef_:\", lr.coef_)\n",
    "print(\"lr.intercept_:\", lr.intercept_)"
   ]
  },
  {
   "cell_type": "code",
   "execution_count": 51,
   "metadata": {},
   "outputs": [
    {
     "data": {
      "text/plain": [
       "(0.0, 1000.0)"
      ]
     },
     "execution_count": 51,
     "metadata": {},
     "output_type": "execute_result"
    },
    {
     "data": {
      "image/png": "[encoded data removed]",
      "text/plain": [
       "<Figure size 432x288 with 1 Axes>"
      ]
     },
     "metadata": {
      "needs_background": "light"
     },
     "output_type": "display_data"
    }
   ],
   "source": [
    "x = [x for x in range(1000)]\n",
    "y = [x for x in range(1000)]\n",
    "\n",
    "\n",
    "poly1d_fn = np.poly1d(lr.coef_) \n",
    "\n",
    "plt.plot(x ,y, 'yo', x, poly1d_fn(x), '--k') #'--k'=black dashed line, 'yo' = yellow circle marker\n",
    "\n",
    "\n",
    "plt.xlim(0, 1000)\n",
    "plt.ylim(0, 1000)\n"
   ]
  }
 ],
 "metadata": {
  "kernelspec": {
   "display_name": "Python 3",
   "language": "python",
   "name": "python3"
  },
  "language_info": {
   "codemirror_mode": {
    "name": "ipython",
    "version": 3
   },
   "file_extension": ".py",
   "mimetype": "text/x-python",
   "name": "python",
   "nbconvert_exporter": "python",
   "pygments_lexer": "ipython3",
   "version": "3.8.5"
  }
 },
 "nbformat": 4,
 "nbformat_minor": 4
}
