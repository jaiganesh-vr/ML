{
 "cells": [
  {
   "cell_type": "code",
   "execution_count": 77,
   "metadata": {},
   "outputs": [
    {
     "name": "stdout",
     "output_type": "stream",
     "text": [
      "Unnamed: 0    object\n",
      "X1            object\n",
      "X2            object\n",
      "X3            object\n",
      "X4            object\n",
      "X5            object\n",
      "X6            object\n",
      "X7            object\n",
      "X8            object\n",
      "X9            object\n",
      "X10           object\n",
      "X11           object\n",
      "X12           object\n",
      "X13           object\n",
      "X14           object\n",
      "X15           object\n",
      "X16           object\n",
      "X17           object\n",
      "X18           object\n",
      "X19           object\n",
      "X20           object\n",
      "X21           object\n",
      "X22           object\n",
      "X23           object\n",
      "Y             object\n",
      "dtype: object\n"
     ]
    }
   ],
   "source": [
    "import pandas as pd\n",
    "from sklearn.neighbors import KNeighborsClassifier\n",
    "from sklearn.model_selection import train_test_split\n",
    "\n",
    "\n",
    "df = pd.read_excel(\"Data/Dataset1.xls\")\n",
    "print(df.dtypes)"
   ]
  },
  {
   "cell_type": "code",
   "execution_count": 51,
   "metadata": {},
   "outputs": [
    {
     "name": "stdout",
     "output_type": "stream",
     "text": [
      "      Unnamed: 0      X1 X2 X3 X4  X5  X6  X7  X8  X9  ...     X14     X15  \\\n",
      "7263        7263  140000  2  1  2  32   0   0   0   0  ...  137909  138999   \n",
      "23033      23033  150000  2  5  1  34   0   0   0   0  ...   19394   18956   \n",
      "27828      27828  170000  2  1  2  26   0   0   0   0  ...  169636  152603   \n",
      "25940      25940  150000  2  2  1  36   0   0   0   0  ...   45813   44309   \n",
      "6199        6199   30000  1  2  1  49   0   0   2   2  ...   16453   15891   \n",
      "...          ...     ... .. .. ..  ..  ..  ..  ..  ..  ...     ...     ...   \n",
      "13126      13126  400000  1  1  1  34  -2  -2  -2  -2  ...       0       0   \n",
      "19651      19651  200000  2  2  1  32   0   0   0   0  ...   52672   53682   \n",
      "9848        9848  360000  1  1  1  46   0   0   0   0  ...   14250   13780   \n",
      "10802      10802   50000  1  3  2  36   2   2   7   7  ...    2400    2400   \n",
      "2735        2735  240000  2  2  2  47  -2  -2  -2  -2  ...    2762   10264   \n",
      "\n",
      "          X16     X17    X18   X19    X20   X21    X22    X23  \n",
      "7263   137275  136141   7000     0   5000  9100   3400      0  \n",
      "23033   20684   22237   3000  2000   2000  2000   2000   1000  \n",
      "27828  114885  105735   8000  9000   5800  3505   3500   3300  \n",
      "25940   27428    2013   2354  2500   1200  2618   2013   4724  \n",
      "6199    16224   16710   3690  1000      0   589    756   1500  \n",
      "...       ...     ...    ...   ...    ...   ...    ...    ...  \n",
      "13126       0       0      0     0      0     0      0      0  \n",
      "19651   51841   52921   5000  2672   2492  2006   2069   2258  \n",
      "9848    15077   14009   3005  3024   4004  4008   3008   2024  \n",
      "10802    2400    2400      0     0      0     0      0      0  \n",
      "2735      316    9801  21359  2762  10318   316  17677  31600  \n",
      "\n",
      "[22498 rows x 24 columns]\n"
     ]
    }
   ],
   "source": [
    "X_train, X_test, y_train, y_test = train_test_split (df.iloc[3:,:24],df.iloc[3:,24], random_state=0)\n",
    "\n",
    "print(X_train)\n"
   ]
  }
 ],
 "metadata": {
  "kernelspec": {
   "display_name": "Python 3",
   "language": "python",
   "name": "python3"
  },
  "language_info": {
   "codemirror_mode": {
    "name": "ipython",
    "version": 3
   },
   "file_extension": ".py",
   "mimetype": "text/x-python",
   "name": "python",
   "nbconvert_exporter": "python",
   "pygments_lexer": "ipython3",
   "version": "3.8.5"
  }
 },
 "nbformat": 4,
 "nbformat_minor": 4
}
